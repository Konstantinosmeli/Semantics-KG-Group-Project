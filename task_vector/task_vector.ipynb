{
 "cells": [
  {
   "cell_type": "code",
   "execution_count": 1,
   "metadata": {
    "collapsed": true
   },
   "outputs": [
    {
     "name": "stdout",
     "output_type": "stream",
     "text": [
      "The autoreload extension is already loaded. To reload it, use:\n",
      "  %reload_ext autoreload\n"
     ]
    }
   ],
   "source": [
    "%load_ext autoreload\n",
    "%autoreload 2"
   ]
  },
  {
   "cell_type": "code",
   "execution_count": 11,
   "outputs": [],
   "source": [
    "from graph_combination import GraphCombination\n",
    "from gensim.models import KeyedVectors"
   ],
   "metadata": {
    "collapsed": false
   }
  },
  {
   "cell_type": "markdown",
   "source": [
    "# Ontology Embeddings (Task Vector)\n",
    "\n",
    "## Subtask Vector.1\n",
    "\n",
    "### Graphs concentration"
   ],
   "metadata": {
    "collapsed": false
   }
  },
  {
   "cell_type": "code",
   "execution_count": 10,
   "outputs": [
    {
     "name": "stdout",
     "output_type": "stream",
     "text": [
      "Concentrated graph created: concentrated_graph.owl\n"
     ]
    }
   ],
   "source": [
    "# We will perform graphs concentration\n",
    "graph_paths = [\n",
    "    \"../cw_onto/pizza-restaurants-ontology.ttl\",\n",
    "    \"../task_rdf/pizza_restaurant.ttl\"\n",
    "]\n",
    "\n",
    "output_path = \"concentrated_graph.owl\"\n",
    "\n",
    "concentrated_graph = GraphCombination(_graph_paths=graph_paths, _output_path=output_path)\n",
    "print(\"Concentrated graph created: {}\".format(concentrated_graph.combination_and_save(_output_format=\"xml\")))"
   ],
   "metadata": {
    "collapsed": false
   }
  },
  {
   "cell_type": "markdown",
   "source": [
    "### Run OWL2Vec\n",
    "\n",
    "`cd OWL2Vec-Star-master/`\n",
    "`owl2vec_star standalone --config_file ../owl2vec_config/config_1.cfg`\n",
    "`owl2vec_star standalone --config_file ../owl2vec_config/config_2.cfg`\n",
    "`owl2vec_star standalone --config_file ../owl2vec_config/config_3.cfg`\n",
    "\n",
    "The configuration was modified from default configuration\n",
    "#### config_1.cfg\n",
    "`iteration = 15`\n",
    "\n",
    "#### config_2.cfg\n",
    "`axiom_reasoner = hermit`\n",
    "`iteration = 20`\n",
    "\n",
    "#### config_3.cfg\n",
    "`axiom_reasoner = elk`\n",
    "`walk_depth = 5`\n",
    "`iteration = 30`\n",
    "\n",
    "### File savings\n",
    "Binary and textual files saved to `owl2vec_embeddings`"
   ],
   "metadata": {
    "collapsed": false
   }
  },
  {
   "cell_type": "code",
   "execution_count": null,
   "outputs": [],
   "source": [],
   "metadata": {
    "collapsed": false
   }
  }
 ],
 "metadata": {
  "kernelspec": {
   "display_name": "Python 3",
   "language": "python",
   "name": "python3"
  },
  "language_info": {
   "codemirror_mode": {
    "name": "ipython",
    "version": 2
   },
   "file_extension": ".py",
   "mimetype": "text/x-python",
   "name": "python",
   "nbconvert_exporter": "python",
   "pygments_lexer": "ipython2",
   "version": "2.7.6"
  }
 },
 "nbformat": 4,
 "nbformat_minor": 0
}
