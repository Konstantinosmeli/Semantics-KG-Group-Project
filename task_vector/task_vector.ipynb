{
 "cells": [
  {
   "cell_type": "code",
   "execution_count": 1,
   "metadata": {
    "collapsed": true
   },
   "outputs": [
    {
     "name": "stdout",
     "output_type": "stream",
     "text": [
      "The autoreload extension is already loaded. To reload it, use:\n",
      "  %reload_ext autoreload\n"
     ]
    }
   ],
   "source": [
    "%load_ext autoreload\n",
    "%autoreload 2"
   ]
  },
  {
   "cell_type": "code",
   "execution_count": 2,
   "outputs": [],
   "source": [
    "from graph_combination import GraphCombination"
   ],
   "metadata": {
    "collapsed": false
   }
  },
  {
   "cell_type": "markdown",
   "source": [
    "# Ontology Embeddings (Task Vector)\n",
    "\n",
    "## Subtask Vector.1\n",
    "\n",
    "### Graphs concentration"
   ],
   "metadata": {
    "collapsed": false
   }
  },
  {
   "cell_type": "code",
   "execution_count": 7,
   "outputs": [
    {
     "name": "stdout",
     "output_type": "stream",
     "text": [
      "Concentrated graph created: concentrated_graph.ttl\n"
     ]
    }
   ],
   "source": [
    "# We will perform graphs concentration\n",
    "graph_paths = [\n",
    "    \"../cw_onto/pizza-restaurants-ontology.ttl\",\n",
    "    \"../task_rdf/pizza_restaurant.ttl\"\n",
    "]\n",
    "\n",
    "output_path = \"concentrated_graph.ttl\"\n",
    "\n",
    "concentrated_graph = GraphCombination(_graph_paths=graph_paths, _output_path=output_path)\n",
    "print(\"Concentrated graph created: {}\".format(concentrated_graph.combination_and_save()))"
   ],
   "metadata": {
    "collapsed": false
   }
  },
  {
   "cell_type": "code",
   "execution_count": null,
   "outputs": [],
   "source": [],
   "metadata": {
    "collapsed": false
   }
  }
 ],
 "metadata": {
  "kernelspec": {
   "display_name": "Python 3",
   "language": "python",
   "name": "python3"
  },
  "language_info": {
   "codemirror_mode": {
    "name": "ipython",
    "version": 2
   },
   "file_extension": ".py",
   "mimetype": "text/x-python",
   "name": "python",
   "nbconvert_exporter": "python",
   "pygments_lexer": "ipython2",
   "version": "2.7.6"
  }
 },
 "nbformat": 4,
 "nbformat_minor": 0
}
